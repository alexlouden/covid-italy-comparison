{
 "cells": [
  {
   "cell_type": "code",
   "execution_count": 2,
   "metadata": {},
   "outputs": [],
   "source": [
    "%matplotlib inline\n",
    "import pandas as pd\n",
    "import seaborn as sns\n",
    "import datetime\n",
    "import matplotlib.pyplot as plt\n",
    "import matplotlib.ticker as mtick\n",
    "pd.options.display.max_rows = 10\n",
    "sns.set(context='notebook', rc={'figure.figsize': (8, 5)})"
   ]
  },
  {
   "cell_type": "code",
   "execution_count": 3,
   "metadata": {},
   "outputs": [],
   "source": [
    "country = 'Australia'"
   ]
  },
  {
   "cell_type": "code",
   "execution_count": 4,
   "metadata": {},
   "outputs": [
    {
     "name": "stdout",
     "output_type": "stream",
     "text": [
      "--2020-03-18 16:09:27--  https://covid.ourworldindata.org/data/full_data.csv\n",
      "Resolving covid.ourworldindata.org... 13.236.188.46\n",
      "Connecting to covid.ourworldindata.org|13.236.188.46|:443... connected.\n",
      "HTTP request sent, awaiting response... 200 OK\n",
      "Length: 80069 (78K) [text/csv]\n",
      "Saving to: ‘full_data.csv’\n",
      "\n",
      "full_data.csv       100%[===================>]  78.19K  --.-KB/s    in 0.1s    \n",
      "\n",
      "2020-03-18 16:09:27 (628 KB/s) - ‘full_data.csv’ saved [80069/80069]\n",
      "\n"
     ]
    }
   ],
   "source": [
    "!wget https://covid.ourworldindata.org/data/full_data.csv -O full_data.csv"
   ]
  },
  {
   "cell_type": "code",
   "execution_count": 6,
   "metadata": {},
   "outputs": [
    {
     "data": {
      "text/html": [
       "<div>\n",
       "<style scoped>\n",
       "    .dataframe tbody tr th:only-of-type {\n",
       "        vertical-align: middle;\n",
       "    }\n",
       "\n",
       "    .dataframe tbody tr th {\n",
       "        vertical-align: top;\n",
       "    }\n",
       "\n",
       "    .dataframe thead th {\n",
       "        text-align: right;\n",
       "    }\n",
       "</style>\n",
       "<table border=\"1\" class=\"dataframe\">\n",
       "  <thead>\n",
       "    <tr style=\"text-align: right;\">\n",
       "      <th></th>\n",
       "      <th>date</th>\n",
       "      <th>location</th>\n",
       "      <th>new_cases</th>\n",
       "      <th>new_deaths</th>\n",
       "      <th>total_cases</th>\n",
       "      <th>total_deaths</th>\n",
       "    </tr>\n",
       "  </thead>\n",
       "  <tbody>\n",
       "    <tr>\n",
       "      <th>0</th>\n",
       "      <td>2020-02-25</td>\n",
       "      <td>Afghanistan</td>\n",
       "      <td>NaN</td>\n",
       "      <td>NaN</td>\n",
       "      <td>1</td>\n",
       "      <td>NaN</td>\n",
       "    </tr>\n",
       "    <tr>\n",
       "      <th>1</th>\n",
       "      <td>2020-02-26</td>\n",
       "      <td>Afghanistan</td>\n",
       "      <td>0.0</td>\n",
       "      <td>NaN</td>\n",
       "      <td>1</td>\n",
       "      <td>NaN</td>\n",
       "    </tr>\n",
       "    <tr>\n",
       "      <th>2</th>\n",
       "      <td>2020-02-27</td>\n",
       "      <td>Afghanistan</td>\n",
       "      <td>0.0</td>\n",
       "      <td>NaN</td>\n",
       "      <td>1</td>\n",
       "      <td>NaN</td>\n",
       "    </tr>\n",
       "    <tr>\n",
       "      <th>3</th>\n",
       "      <td>2020-02-28</td>\n",
       "      <td>Afghanistan</td>\n",
       "      <td>0.0</td>\n",
       "      <td>NaN</td>\n",
       "      <td>1</td>\n",
       "      <td>NaN</td>\n",
       "    </tr>\n",
       "    <tr>\n",
       "      <th>4</th>\n",
       "      <td>2020-02-29</td>\n",
       "      <td>Afghanistan</td>\n",
       "      <td>0.0</td>\n",
       "      <td>NaN</td>\n",
       "      <td>1</td>\n",
       "      <td>NaN</td>\n",
       "    </tr>\n",
       "    <tr>\n",
       "      <th>...</th>\n",
       "      <td>...</td>\n",
       "      <td>...</td>\n",
       "      <td>...</td>\n",
       "      <td>...</td>\n",
       "      <td>...</td>\n",
       "      <td>...</td>\n",
       "    </tr>\n",
       "    <tr>\n",
       "      <th>2862</th>\n",
       "      <td>2020-03-13</td>\n",
       "      <td>World</td>\n",
       "      <td>7488.0</td>\n",
       "      <td>338.0</td>\n",
       "      <td>132758</td>\n",
       "      <td>4956.0</td>\n",
       "    </tr>\n",
       "    <tr>\n",
       "      <th>2863</th>\n",
       "      <td>2020-03-14</td>\n",
       "      <td>World</td>\n",
       "      <td>9761.0</td>\n",
       "      <td>433.0</td>\n",
       "      <td>142534</td>\n",
       "      <td>5392.0</td>\n",
       "    </tr>\n",
       "    <tr>\n",
       "      <th>2864</th>\n",
       "      <td>2020-03-15</td>\n",
       "      <td>World</td>\n",
       "      <td>10967.0</td>\n",
       "      <td>343.0</td>\n",
       "      <td>153517</td>\n",
       "      <td>5735.0</td>\n",
       "    </tr>\n",
       "    <tr>\n",
       "      <th>2865</th>\n",
       "      <td>2020-03-16</td>\n",
       "      <td>World</td>\n",
       "      <td>13971.0</td>\n",
       "      <td>855.0</td>\n",
       "      <td>167506</td>\n",
       "      <td>6606.0</td>\n",
       "    </tr>\n",
       "    <tr>\n",
       "      <th>2866</th>\n",
       "      <td>2020-03-17</td>\n",
       "      <td>World</td>\n",
       "      <td>11594.0</td>\n",
       "      <td>819.0</td>\n",
       "      <td>179112</td>\n",
       "      <td>7426.0</td>\n",
       "    </tr>\n",
       "  </tbody>\n",
       "</table>\n",
       "<p>2867 rows × 6 columns</p>\n",
       "</div>"
      ],
      "text/plain": [
       "           date     location  new_cases  new_deaths  total_cases  total_deaths\n",
       "0    2020-02-25  Afghanistan        NaN         NaN            1           NaN\n",
       "1    2020-02-26  Afghanistan        0.0         NaN            1           NaN\n",
       "2    2020-02-27  Afghanistan        0.0         NaN            1           NaN\n",
       "3    2020-02-28  Afghanistan        0.0         NaN            1           NaN\n",
       "4    2020-02-29  Afghanistan        0.0         NaN            1           NaN\n",
       "...         ...          ...        ...         ...          ...           ...\n",
       "2862 2020-03-13        World     7488.0       338.0       132758        4956.0\n",
       "2863 2020-03-14        World     9761.0       433.0       142534        5392.0\n",
       "2864 2020-03-15        World    10967.0       343.0       153517        5735.0\n",
       "2865 2020-03-16        World    13971.0       855.0       167506        6606.0\n",
       "2866 2020-03-17        World    11594.0       819.0       179112        7426.0\n",
       "\n",
       "[2867 rows x 6 columns]"
      ]
     },
     "execution_count": 6,
     "metadata": {},
     "output_type": "execute_result"
    }
   ],
   "source": [
    "# CSV from https://ourworldindata.org/coronavirus-source-data\n",
    "# Direct download: https://covid.ourworldindata.org/data/full_data.csv\n",
    "df = pd.read_csv('full_data.csv', parse_dates=[0])\n",
    "df"
   ]
  },
  {
   "cell_type": "code",
   "execution_count": 7,
   "metadata": {},
   "outputs": [
    {
     "data": {
      "text/plain": [
       "date            2020-03-17 00:00:00\n",
       "location                  Australia\n",
       "new_cases                        77\n",
       "new_deaths                        0\n",
       "total_cases                     375\n",
       "total_deaths                      5\n",
       "Name: 154, dtype: object"
      ]
     },
     "execution_count": 7,
     "metadata": {},
     "output_type": "execute_result"
    }
   ],
   "source": [
    "# Grab the comparison country, get the latest record\n",
    "comparison = df[df['location'] == country]\n",
    "comparison_current = comparison.iloc[-1]\n",
    "comparison_current"
   ]
  },
  {
   "cell_type": "code",
   "execution_count": 8,
   "metadata": {},
   "outputs": [
    {
     "data": {
      "text/plain": [
       "date            2020-02-27 00:00:00\n",
       "location                      Italy\n",
       "new_cases                        78\n",
       "new_deaths                        1\n",
       "total_cases                     400\n",
       "total_deaths                     12\n",
       "Name: 27, dtype: object"
      ]
     },
     "execution_count": 8,
     "metadata": {},
     "output_type": "execute_result"
    }
   ],
   "source": [
    "# Get the data point where Italy was closest to the comparison country's total number of cases\n",
    "italy = df[(df['location'] == 'Italy')].reset_index(drop=True)\n",
    "idx = italy['total_cases'].sub(comparison_current.total_cases).abs().idxmin()\n",
    "italy_same_as_current = italy.iloc[idx]\n",
    "italy_same_as_current"
   ]
  },
  {
   "cell_type": "code",
   "execution_count": 9,
   "metadata": {},
   "outputs": [
    {
     "data": {
      "text/plain": [
       "Timedelta('19 days 00:00:00')"
      ]
     },
     "execution_count": 9,
     "metadata": {},
     "output_type": "execute_result"
    }
   ],
   "source": [
    "# How many days behind is the comparison country?\n",
    "days_behind = comparison_current.date - italy_same_as_current.date\n",
    "days_behind"
   ]
  },
  {
   "cell_type": "code",
   "execution_count": 10,
   "metadata": {},
   "outputs": [
    {
     "name": "stdout",
     "output_type": "stream",
     "text": [
      "Australia has 375 cases, closest to Italy 19 days ago with 400 cases\n"
     ]
    }
   ],
   "source": [
    "print(f'{country} has {comparison_current.total_cases} cases, '\n",
    "      f'closest to Italy {days_behind.days} days ago with {italy_same_as_current.total_cases} cases')"
   ]
  },
  {
   "cell_type": "code",
   "execution_count": 11,
   "metadata": {},
   "outputs": [
    {
     "data": {
      "text/html": [
       "<div>\n",
       "<style scoped>\n",
       "    .dataframe tbody tr th:only-of-type {\n",
       "        vertical-align: middle;\n",
       "    }\n",
       "\n",
       "    .dataframe tbody tr th {\n",
       "        vertical-align: top;\n",
       "    }\n",
       "\n",
       "    .dataframe thead th {\n",
       "        text-align: right;\n",
       "    }\n",
       "</style>\n",
       "<table border=\"1\" class=\"dataframe\">\n",
       "  <thead>\n",
       "    <tr style=\"text-align: right;\">\n",
       "      <th></th>\n",
       "      <th>date</th>\n",
       "      <th>location</th>\n",
       "      <th>new_cases</th>\n",
       "      <th>new_deaths</th>\n",
       "      <th>total_cases</th>\n",
       "      <th>total_deaths</th>\n",
       "    </tr>\n",
       "  </thead>\n",
       "  <tbody>\n",
       "    <tr>\n",
       "      <th>0</th>\n",
       "      <td>2020-02-19</td>\n",
       "      <td>Italy</td>\n",
       "      <td>NaN</td>\n",
       "      <td>NaN</td>\n",
       "      <td>2</td>\n",
       "      <td>NaN</td>\n",
       "    </tr>\n",
       "    <tr>\n",
       "      <th>1</th>\n",
       "      <td>2020-02-20</td>\n",
       "      <td>Italy</td>\n",
       "      <td>0.0</td>\n",
       "      <td>NaN</td>\n",
       "      <td>2</td>\n",
       "      <td>NaN</td>\n",
       "    </tr>\n",
       "    <tr>\n",
       "      <th>2</th>\n",
       "      <td>2020-02-21</td>\n",
       "      <td>Italy</td>\n",
       "      <td>0.0</td>\n",
       "      <td>NaN</td>\n",
       "      <td>2</td>\n",
       "      <td>NaN</td>\n",
       "    </tr>\n",
       "    <tr>\n",
       "      <th>3</th>\n",
       "      <td>2020-02-22</td>\n",
       "      <td>Italy</td>\n",
       "      <td>0.0</td>\n",
       "      <td>NaN</td>\n",
       "      <td>2</td>\n",
       "      <td>NaN</td>\n",
       "    </tr>\n",
       "    <tr>\n",
       "      <th>4</th>\n",
       "      <td>2020-02-23</td>\n",
       "      <td>Italy</td>\n",
       "      <td>0.0</td>\n",
       "      <td>NaN</td>\n",
       "      <td>2</td>\n",
       "      <td>NaN</td>\n",
       "    </tr>\n",
       "    <tr>\n",
       "      <th>...</th>\n",
       "      <td>...</td>\n",
       "      <td>...</td>\n",
       "      <td>...</td>\n",
       "      <td>...</td>\n",
       "      <td>...</td>\n",
       "      <td>...</td>\n",
       "    </tr>\n",
       "    <tr>\n",
       "      <th>42</th>\n",
       "      <td>2020-04-01</td>\n",
       "      <td>Italy</td>\n",
       "      <td>2651.0</td>\n",
       "      <td>189.0</td>\n",
       "      <td>15113</td>\n",
       "      <td>1016.0</td>\n",
       "    </tr>\n",
       "    <tr>\n",
       "      <th>43</th>\n",
       "      <td>2020-04-02</td>\n",
       "      <td>Italy</td>\n",
       "      <td>2547.0</td>\n",
       "      <td>252.0</td>\n",
       "      <td>17660</td>\n",
       "      <td>1268.0</td>\n",
       "    </tr>\n",
       "    <tr>\n",
       "      <th>44</th>\n",
       "      <td>2020-04-03</td>\n",
       "      <td>Italy</td>\n",
       "      <td>3497.0</td>\n",
       "      <td>173.0</td>\n",
       "      <td>21157</td>\n",
       "      <td>1441.0</td>\n",
       "    </tr>\n",
       "    <tr>\n",
       "      <th>45</th>\n",
       "      <td>2020-04-04</td>\n",
       "      <td>Italy</td>\n",
       "      <td>3590.0</td>\n",
       "      <td>368.0</td>\n",
       "      <td>24747</td>\n",
       "      <td>1809.0</td>\n",
       "    </tr>\n",
       "    <tr>\n",
       "      <th>46</th>\n",
       "      <td>2020-04-05</td>\n",
       "      <td>Italy</td>\n",
       "      <td>3233.0</td>\n",
       "      <td>694.0</td>\n",
       "      <td>27980</td>\n",
       "      <td>2503.0</td>\n",
       "    </tr>\n",
       "  </tbody>\n",
       "</table>\n",
       "<p>47 rows × 6 columns</p>\n",
       "</div>"
      ],
      "text/plain": [
       "         date location  new_cases  new_deaths  total_cases  total_deaths\n",
       "0  2020-02-19    Italy        NaN         NaN            2           NaN\n",
       "1  2020-02-20    Italy        0.0         NaN            2           NaN\n",
       "2  2020-02-21    Italy        0.0         NaN            2           NaN\n",
       "3  2020-02-22    Italy        0.0         NaN            2           NaN\n",
       "4  2020-02-23    Italy        0.0         NaN            2           NaN\n",
       "..        ...      ...        ...         ...          ...           ...\n",
       "42 2020-04-01    Italy     2651.0       189.0        15113        1016.0\n",
       "43 2020-04-02    Italy     2547.0       252.0        17660        1268.0\n",
       "44 2020-04-03    Italy     3497.0       173.0        21157        1441.0\n",
       "45 2020-04-04    Italy     3590.0       368.0        24747        1809.0\n",
       "46 2020-04-05    Italy     3233.0       694.0        27980        2503.0\n",
       "\n",
       "[47 rows x 6 columns]"
      ]
     },
     "execution_count": 11,
     "metadata": {},
     "output_type": "execute_result"
    }
   ],
   "source": [
    "# Copy the Italy dataset, and shift it backwards in time based on the above offset\n",
    "italy_leading = italy.copy()\n",
    "italy_leading.date += days_behind\n",
    "italy_leading"
   ]
  },
  {
   "cell_type": "code",
   "execution_count": 14,
   "metadata": {
    "scrolled": false
   },
   "outputs": [
    {
     "data": {
      "image/png": "[encoded data removed]",
      "text/plain": [
       "<matplotlib.figure.Figure at 0x111d52e48>"
      ]
     },
     "metadata": {},
     "output_type": "display_data"
    }
   ],
   "source": [
    "# Plot the offset graph of Italy (log)\n",
    "ax = italy_leading.plot(\n",
    "    x='date',\n",
    "    y='total_cases',\n",
    "    label=f'Italy ({days_behind.days} days ago)',\n",
    "    figsize=(16, 8),\n",
    "    ls=':',\n",
    "    logy=True\n",
    ")\n",
    "# Plot the comparison country\n",
    "comparison.plot(x='date', y='total_cases', ax=ax, label=country, lw=2)\n",
    "\n",
    "# Fix the graph start and end date\n",
    "ax.set_xlim(datetime.date(2020, 3, 1), datetime.date(2020, 4, 1))\n",
    "ax.set_title('Total number of COVID 19 cases')\n",
    "ax.yaxis.set_major_formatter(mtick.FuncFormatter(lambda x, y: int(x)))\n",
    "\n",
    "plt.savefig(f'comparison_{country}.png', transparent=False)"
   ]
  },
  {
   "cell_type": "code",
   "execution_count": 15,
   "metadata": {},
   "outputs": [
    {
     "data": {
      "image/png": "[encoded data removed]",
      "text/plain": [
       "<matplotlib.figure.Figure at 0x11406b198>"
      ]
     },
     "metadata": {},
     "output_type": "display_data"
    }
   ],
   "source": [
    "# Plot the offset graph of Italy (linear)\n",
    "ax = italy_leading.plot(\n",
    "    x='date',\n",
    "    y='total_cases',\n",
    "    label=f'Italy ({days_behind.days} days ago)',\n",
    "    figsize=(16, 8),\n",
    "    ls=':',\n",
    "    logy=False\n",
    ")\n",
    "# Plot the comparison country\n",
    "comparison.plot(x='date', y='total_cases', ax=ax, label=country, lw=2)\n",
    "\n",
    "# Fix the graph start and end date\n",
    "ax.set_xlim(datetime.date(2020, 3, 1), datetime.date(2020, 4, 1))\n",
    "ax.set_title('Total number of COVID 19 cases')\n",
    "ax.yaxis.set_major_formatter(mtick.FuncFormatter(lambda x, y: int(x)))\n"
   ]
  },
  {
   "cell_type": "code",
   "execution_count": 23,
   "metadata": {},
   "outputs": [
    {
     "data": {
      "text/plain": [
       "<matplotlib.axes._subplots.AxesSubplot at 0x1119da438>"
      ]
     },
     "execution_count": 23,
     "metadata": {},
     "output_type": "execute_result"
    },
    {
     "data": {
      "image/png": "[encoded data removed]",
      "text/plain": [
       "<matplotlib.figure.Figure at 0x111a24358>"
      ]
     },
     "metadata": {},
     "output_type": "display_data"
    }
   ],
   "source": [
    "comparison.plot(\n",
    "    x='date', y='total_cases', label=country, lw=2,\n",
    "    xlim=(datetime.date(2020, 3, 1), None),\n",
    "    marker='o',\n",
    "    \n",
    ")"
   ]
  },
  {
   "cell_type": "code",
   "execution_count": null,
   "metadata": {},
   "outputs": [],
   "source": []
  }
 ],
 "metadata": {
  "kernelspec": {
   "display_name": "Python 3",
   "language": "python",
   "name": "python3"
  },
  "language_info": {
   "codemirror_mode": {
    "name": "ipython",
    "version": 3
   },
   "file_extension": ".py",
   "mimetype": "text/x-python",
   "name": "python",
   "nbconvert_exporter": "python",
   "pygments_lexer": "ipython3",
   "version": "3.6.5"
  }
 },
 "nbformat": 4,
 "nbformat_minor": 2
}

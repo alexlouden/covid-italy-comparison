{
 "cells": [
  {
   "cell_type": "code",
   "execution_count": 1,
   "metadata": {},
   "outputs": [],
   "source": [
    "%matplotlib inline\n",
    "import pandas as pd\n",
    "import seaborn as sns\n",
    "import datetime\n",
    "import matplotlib.pyplot as plt\n",
    "import matplotlib.ticker as mtick\n",
    "pd.options.display.max_rows = 10\n",
    "sns.set(context='notebook', rc={'figure.figsize': (8, 5)})"
   ]
  },
  {
   "cell_type": "code",
   "execution_count": 2,
   "metadata": {},
   "outputs": [],
   "source": [
    "country = 'Australia'"
   ]
  },
  {
   "cell_type": "code",
   "execution_count": 3,
   "metadata": {},
   "outputs": [
    {
     "data": {
      "text/html": [
       "<div>\n",
       "<style scoped>\n",
       "    .dataframe tbody tr th:only-of-type {\n",
       "        vertical-align: middle;\n",
       "    }\n",
       "\n",
       "    .dataframe tbody tr th {\n",
       "        vertical-align: top;\n",
       "    }\n",
       "\n",
       "    .dataframe thead th {\n",
       "        text-align: right;\n",
       "    }\n",
       "</style>\n",
       "<table border=\"1\" class=\"dataframe\">\n",
       "  <thead>\n",
       "    <tr style=\"text-align: right;\">\n",
       "      <th></th>\n",
       "      <th>date</th>\n",
       "      <th>location</th>\n",
       "      <th>new_cases</th>\n",
       "      <th>new_deaths</th>\n",
       "      <th>total_cases</th>\n",
       "      <th>total_deaths</th>\n",
       "    </tr>\n",
       "  </thead>\n",
       "  <tbody>\n",
       "    <tr>\n",
       "      <th>0</th>\n",
       "      <td>2020-02-25</td>\n",
       "      <td>Afghanistan</td>\n",
       "      <td>NaN</td>\n",
       "      <td>NaN</td>\n",
       "      <td>1</td>\n",
       "      <td>NaN</td>\n",
       "    </tr>\n",
       "    <tr>\n",
       "      <th>1</th>\n",
       "      <td>2020-02-26</td>\n",
       "      <td>Afghanistan</td>\n",
       "      <td>0.0</td>\n",
       "      <td>NaN</td>\n",
       "      <td>1</td>\n",
       "      <td>NaN</td>\n",
       "    </tr>\n",
       "    <tr>\n",
       "      <th>2</th>\n",
       "      <td>2020-02-27</td>\n",
       "      <td>Afghanistan</td>\n",
       "      <td>0.0</td>\n",
       "      <td>NaN</td>\n",
       "      <td>1</td>\n",
       "      <td>NaN</td>\n",
       "    </tr>\n",
       "    <tr>\n",
       "      <th>3</th>\n",
       "      <td>2020-02-28</td>\n",
       "      <td>Afghanistan</td>\n",
       "      <td>0.0</td>\n",
       "      <td>NaN</td>\n",
       "      <td>1</td>\n",
       "      <td>NaN</td>\n",
       "    </tr>\n",
       "    <tr>\n",
       "      <th>4</th>\n",
       "      <td>2020-02-29</td>\n",
       "      <td>Afghanistan</td>\n",
       "      <td>0.0</td>\n",
       "      <td>NaN</td>\n",
       "      <td>1</td>\n",
       "      <td>NaN</td>\n",
       "    </tr>\n",
       "    <tr>\n",
       "      <th>...</th>\n",
       "      <td>...</td>\n",
       "      <td>...</td>\n",
       "      <td>...</td>\n",
       "      <td>...</td>\n",
       "      <td>...</td>\n",
       "      <td>...</td>\n",
       "    </tr>\n",
       "    <tr>\n",
       "      <th>2548</th>\n",
       "      <td>2020-03-11</td>\n",
       "      <td>World</td>\n",
       "      <td>4611.0</td>\n",
       "      <td>275.0</td>\n",
       "      <td>118319</td>\n",
       "      <td>4292.0</td>\n",
       "    </tr>\n",
       "    <tr>\n",
       "      <th>2549</th>\n",
       "      <td>2020-03-12</td>\n",
       "      <td>World</td>\n",
       "      <td>6936.0</td>\n",
       "      <td>317.0</td>\n",
       "      <td>125260</td>\n",
       "      <td>4613.0</td>\n",
       "    </tr>\n",
       "    <tr>\n",
       "      <th>2550</th>\n",
       "      <td>2020-03-13</td>\n",
       "      <td>World</td>\n",
       "      <td>7488.0</td>\n",
       "      <td>338.0</td>\n",
       "      <td>132758</td>\n",
       "      <td>4956.0</td>\n",
       "    </tr>\n",
       "    <tr>\n",
       "      <th>2551</th>\n",
       "      <td>2020-03-14</td>\n",
       "      <td>World</td>\n",
       "      <td>9766.0</td>\n",
       "      <td>434.0</td>\n",
       "      <td>142539</td>\n",
       "      <td>5393.0</td>\n",
       "    </tr>\n",
       "    <tr>\n",
       "      <th>2552</th>\n",
       "      <td>2020-03-15</td>\n",
       "      <td>World</td>\n",
       "      <td>10968.0</td>\n",
       "      <td>343.0</td>\n",
       "      <td>153523</td>\n",
       "      <td>5736.0</td>\n",
       "    </tr>\n",
       "  </tbody>\n",
       "</table>\n",
       "<p>2553 rows × 6 columns</p>\n",
       "</div>"
      ],
      "text/plain": [
       "           date     location  new_cases  new_deaths  total_cases  total_deaths\n",
       "0    2020-02-25  Afghanistan        NaN         NaN            1           NaN\n",
       "1    2020-02-26  Afghanistan        0.0         NaN            1           NaN\n",
       "2    2020-02-27  Afghanistan        0.0         NaN            1           NaN\n",
       "3    2020-02-28  Afghanistan        0.0         NaN            1           NaN\n",
       "4    2020-02-29  Afghanistan        0.0         NaN            1           NaN\n",
       "...         ...          ...        ...         ...          ...           ...\n",
       "2548 2020-03-11        World     4611.0       275.0       118319        4292.0\n",
       "2549 2020-03-12        World     6936.0       317.0       125260        4613.0\n",
       "2550 2020-03-13        World     7488.0       338.0       132758        4956.0\n",
       "2551 2020-03-14        World     9766.0       434.0       142539        5393.0\n",
       "2552 2020-03-15        World    10968.0       343.0       153523        5736.0\n",
       "\n",
       "[2553 rows x 6 columns]"
      ]
     },
     "execution_count": 3,
     "metadata": {},
     "output_type": "execute_result"
    }
   ],
   "source": [
    "# CSV from https://ourworldindata.org/coronavirus-source-data\n",
    "# Direct download: https://covid.ourworldindata.org/data/full_data.csv\n",
    "df = pd.read_csv('full_data.csv', parse_dates=[0])\n",
    "df"
   ]
  },
  {
   "cell_type": "code",
   "execution_count": 4,
   "metadata": {},
   "outputs": [
    {
     "data": {
      "text/plain": [
       "date            2020-03-15 00:00:00\n",
       "location                  Australia\n",
       "new_cases                        52\n",
       "new_deaths                        0\n",
       "total_cases                     249\n",
       "total_deaths                      3\n",
       "Name: 137, dtype: object"
      ]
     },
     "execution_count": 4,
     "metadata": {},
     "output_type": "execute_result"
    }
   ],
   "source": [
    "# Grab the comparison country, get the latest record\n",
    "comparison = df[df['location'] == country]\n",
    "comparison_current = comparison.iloc[-1]\n",
    "comparison_current"
   ]
  },
  {
   "cell_type": "code",
   "execution_count": 5,
   "metadata": {},
   "outputs": [
    {
     "data": {
      "text/plain": [
       "date            2020-02-25 00:00:00\n",
       "location                      Italy\n",
       "new_cases                       105\n",
       "new_deaths                        4\n",
       "total_cases                     229\n",
       "total_deaths                      6\n",
       "Name: 25, dtype: object"
      ]
     },
     "execution_count": 5,
     "metadata": {},
     "output_type": "execute_result"
    }
   ],
   "source": [
    "# Get the data point where Italy was closest to the comparison country's total number of cases\n",
    "italy = df[(df['location'] == 'Italy')].reset_index(drop=True)\n",
    "idx = italy['total_cases'].sub(comparison_current.total_cases).abs().idxmin()\n",
    "italy_same_as_current = italy.iloc[idx]\n",
    "italy_same_as_current"
   ]
  },
  {
   "cell_type": "code",
   "execution_count": 6,
   "metadata": {},
   "outputs": [
    {
     "data": {
      "text/plain": [
       "Timedelta('19 days 00:00:00')"
      ]
     },
     "execution_count": 6,
     "metadata": {},
     "output_type": "execute_result"
    }
   ],
   "source": [
    "# How many days behind is the comparison country?\n",
    "days_behind = comparison_current.date - italy_same_as_current.date\n",
    "days_behind"
   ]
  },
  {
   "cell_type": "code",
   "execution_count": 7,
   "metadata": {},
   "outputs": [
    {
     "name": "stdout",
     "output_type": "stream",
     "text": [
      "Australia has 249 cases, closest to Italy 19 days ago with 229 cases\n"
     ]
    }
   ],
   "source": [
    "print(f'{country} has {comparison_current.total_cases} cases, '\n",
    "      f'closest to Italy {days_behind.days} days ago with {italy_same_as_current.total_cases} cases')"
   ]
  },
  {
   "cell_type": "code",
   "execution_count": 8,
   "metadata": {},
   "outputs": [
    {
     "data": {
      "text/html": [
       "<div>\n",
       "<style scoped>\n",
       "    .dataframe tbody tr th:only-of-type {\n",
       "        vertical-align: middle;\n",
       "    }\n",
       "\n",
       "    .dataframe tbody tr th {\n",
       "        vertical-align: top;\n",
       "    }\n",
       "\n",
       "    .dataframe thead th {\n",
       "        text-align: right;\n",
       "    }\n",
       "</style>\n",
       "<table border=\"1\" class=\"dataframe\">\n",
       "  <thead>\n",
       "    <tr style=\"text-align: right;\">\n",
       "      <th></th>\n",
       "      <th>date</th>\n",
       "      <th>location</th>\n",
       "      <th>new_cases</th>\n",
       "      <th>new_deaths</th>\n",
       "      <th>total_cases</th>\n",
       "      <th>total_deaths</th>\n",
       "    </tr>\n",
       "  </thead>\n",
       "  <tbody>\n",
       "    <tr>\n",
       "      <th>0</th>\n",
       "      <td>2020-02-19</td>\n",
       "      <td>Italy</td>\n",
       "      <td>NaN</td>\n",
       "      <td>NaN</td>\n",
       "      <td>2</td>\n",
       "      <td>NaN</td>\n",
       "    </tr>\n",
       "    <tr>\n",
       "      <th>1</th>\n",
       "      <td>2020-02-20</td>\n",
       "      <td>Italy</td>\n",
       "      <td>0.0</td>\n",
       "      <td>NaN</td>\n",
       "      <td>2</td>\n",
       "      <td>NaN</td>\n",
       "    </tr>\n",
       "    <tr>\n",
       "      <th>2</th>\n",
       "      <td>2020-02-21</td>\n",
       "      <td>Italy</td>\n",
       "      <td>0.0</td>\n",
       "      <td>NaN</td>\n",
       "      <td>2</td>\n",
       "      <td>NaN</td>\n",
       "    </tr>\n",
       "    <tr>\n",
       "      <th>3</th>\n",
       "      <td>2020-02-22</td>\n",
       "      <td>Italy</td>\n",
       "      <td>0.0</td>\n",
       "      <td>NaN</td>\n",
       "      <td>2</td>\n",
       "      <td>NaN</td>\n",
       "    </tr>\n",
       "    <tr>\n",
       "      <th>4</th>\n",
       "      <td>2020-02-23</td>\n",
       "      <td>Italy</td>\n",
       "      <td>0.0</td>\n",
       "      <td>NaN</td>\n",
       "      <td>2</td>\n",
       "      <td>NaN</td>\n",
       "    </tr>\n",
       "    <tr>\n",
       "      <th>...</th>\n",
       "      <td>...</td>\n",
       "      <td>...</td>\n",
       "      <td>...</td>\n",
       "      <td>...</td>\n",
       "      <td>...</td>\n",
       "      <td>...</td>\n",
       "    </tr>\n",
       "    <tr>\n",
       "      <th>40</th>\n",
       "      <td>2020-03-30</td>\n",
       "      <td>Italy</td>\n",
       "      <td>977.0</td>\n",
       "      <td>168.0</td>\n",
       "      <td>10149</td>\n",
       "      <td>631.0</td>\n",
       "    </tr>\n",
       "    <tr>\n",
       "      <th>41</th>\n",
       "      <td>2020-03-31</td>\n",
       "      <td>Italy</td>\n",
       "      <td>2313.0</td>\n",
       "      <td>196.0</td>\n",
       "      <td>12462</td>\n",
       "      <td>827.0</td>\n",
       "    </tr>\n",
       "    <tr>\n",
       "      <th>42</th>\n",
       "      <td>2020-04-01</td>\n",
       "      <td>Italy</td>\n",
       "      <td>2651.0</td>\n",
       "      <td>189.0</td>\n",
       "      <td>15113</td>\n",
       "      <td>1016.0</td>\n",
       "    </tr>\n",
       "    <tr>\n",
       "      <th>43</th>\n",
       "      <td>2020-04-02</td>\n",
       "      <td>Italy</td>\n",
       "      <td>2547.0</td>\n",
       "      <td>252.0</td>\n",
       "      <td>17660</td>\n",
       "      <td>1268.0</td>\n",
       "    </tr>\n",
       "    <tr>\n",
       "      <th>44</th>\n",
       "      <td>2020-04-03</td>\n",
       "      <td>Italy</td>\n",
       "      <td>3497.0</td>\n",
       "      <td>173.0</td>\n",
       "      <td>21157</td>\n",
       "      <td>1441.0</td>\n",
       "    </tr>\n",
       "  </tbody>\n",
       "</table>\n",
       "<p>45 rows × 6 columns</p>\n",
       "</div>"
      ],
      "text/plain": [
       "         date location  new_cases  new_deaths  total_cases  total_deaths\n",
       "0  2020-02-19    Italy        NaN         NaN            2           NaN\n",
       "1  2020-02-20    Italy        0.0         NaN            2           NaN\n",
       "2  2020-02-21    Italy        0.0         NaN            2           NaN\n",
       "3  2020-02-22    Italy        0.0         NaN            2           NaN\n",
       "4  2020-02-23    Italy        0.0         NaN            2           NaN\n",
       "..        ...      ...        ...         ...          ...           ...\n",
       "40 2020-03-30    Italy      977.0       168.0        10149         631.0\n",
       "41 2020-03-31    Italy     2313.0       196.0        12462         827.0\n",
       "42 2020-04-01    Italy     2651.0       189.0        15113        1016.0\n",
       "43 2020-04-02    Italy     2547.0       252.0        17660        1268.0\n",
       "44 2020-04-03    Italy     3497.0       173.0        21157        1441.0\n",
       "\n",
       "[45 rows x 6 columns]"
      ]
     },
     "execution_count": 8,
     "metadata": {},
     "output_type": "execute_result"
    }
   ],
   "source": [
    "# Copy the Italy dataset, and shift it backwards in time based on the above offset\n",
    "italy_leading = italy.copy()\n",
    "italy_leading.date += days_behind\n",
    "italy_leading"
   ]
  },
  {
   "cell_type": "code",
   "execution_count": 9,
   "metadata": {
    "scrolled": false
   },
   "outputs": [
    {
     "data": {
      "image/png": "[encoded data removed]",
      "text/plain": [
       "<matplotlib.figure.Figure at 0x11d5c2eb8>"
      ]
     },
     "metadata": {},
     "output_type": "display_data"
    }
   ],
   "source": [
    "# Plot the offset graph of Italy (log)\n",
    "ax = italy_leading.plot(\n",
    "    x='date',\n",
    "    y='total_cases',\n",
    "    label=f'Italy ({days_behind.days} days ago)',\n",
    "    figsize=(16, 8),\n",
    "    ls=':',\n",
    "    logy=True\n",
    ")\n",
    "# Plot the comparison country\n",
    "comparison.plot(x='date', y='total_cases', ax=ax, label=country, lw=2)\n",
    "\n",
    "# Fix the graph start and end date\n",
    "ax.set_xlim(datetime.date(2020, 3, 1), datetime.date(2020, 4, 1))\n",
    "ax.set_title('Total number of COVID 19 cases')\n",
    "ax.yaxis.set_major_formatter(mtick.FuncFormatter(lambda x, y: int(x)))\n"
   ]
  },
  {
   "cell_type": "code",
   "execution_count": 10,
   "metadata": {},
   "outputs": [
    {
     "data": {
      "image/png": "[encoded data removed]",
      "text/plain": [
       "<matplotlib.figure.Figure at 0x11fa52a58>"
      ]
     },
     "metadata": {},
     "output_type": "display_data"
    }
   ],
   "source": [
    "# Plot the offset graph of Italy (linear)\n",
    "ax = italy_leading.plot(\n",
    "    x='date',\n",
    "    y='total_cases',\n",
    "    label=f'Italy ({days_behind.days} days ago)',\n",
    "    figsize=(16, 8),\n",
    "    ls=':',\n",
    "    logy=False\n",
    ")\n",
    "# Plot the comparison country\n",
    "comparison.plot(x='date', y='total_cases', ax=ax, label=country, lw=2)\n",
    "\n",
    "# Fix the graph start and end date\n",
    "ax.set_xlim(datetime.date(2020, 3, 1), datetime.date(2020, 4, 1))\n",
    "ax.set_title('Total number of COVID 19 cases')\n",
    "ax.yaxis.set_major_formatter(mtick.FuncFormatter(lambda x, y: int(x)))\n"
   ]
  },
  {
   "cell_type": "code",
   "execution_count": null,
   "metadata": {},
   "outputs": [],
   "source": []
  }
 ],
 "metadata": {
  "kernelspec": {
   "display_name": "Python 3",
   "language": "python",
   "name": "python3"
  },
  "language_info": {
   "codemirror_mode": {
    "name": "ipython",
    "version": 3
   },
   "file_extension": ".py",
   "mimetype": "text/x-python",
   "name": "python",
   "nbconvert_exporter": "python",
   "pygments_lexer": "ipython3",
   "version": "3.6.5"
  }
 },
 "nbformat": 4,
 "nbformat_minor": 2
}
